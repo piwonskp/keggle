{
 "cells": [
  {
   "cell_type": "code",
   "execution_count": 27,
   "metadata": {
    "colab": {
     "base_uri": "https://localhost:8080/",
     "height": 34
    },
    "colab_type": "code",
    "executionInfo": {
     "elapsed": 772,
     "status": "ok",
     "timestamp": 1553448765602,
     "user": {
      "displayName": "Piotr Piwoński",
      "photoUrl": "",
      "userId": "10614946504265160604"
     },
     "user_tz": -60
    },
    "id": "liIQIB0DwsDz",
    "outputId": "139f1e2a-65a2-4980-d326-83de6f24ca25"
   },
   "outputs": [
    {
     "data": {
      "text/plain": [
       "2401"
      ]
     },
     "execution_count": 27,
     "metadata": {},
     "output_type": "execute_result"
    }
   ],
   "source": [
    "7 ** 4"
   ]
  },
  {
   "cell_type": "code",
   "execution_count": 28,
   "metadata": {
    "colab": {
     "base_uri": "https://localhost:8080/",
     "height": 34
    },
    "colab_type": "code",
    "executionInfo": {
     "elapsed": 751,
     "status": "ok",
     "timestamp": 1553448765604,
     "user": {
      "displayName": "Piotr Piwoński",
      "photoUrl": "",
      "userId": "10614946504265160604"
     },
     "user_tz": -60
    },
    "id": "S0A5Dr5iwsEB",
    "outputId": "a5963369-d019-4551-f567-ffb6b9f35ace",
    "scrolled": true
   },
   "outputs": [
    {
     "data": {
      "text/plain": [
       "'Hi there Sam!'"
      ]
     },
     "execution_count": 28,
     "metadata": {},
     "output_type": "execute_result"
    }
   ],
   "source": [
    "s = \"Hi there Sam!\"\n",
    "s.split()[:-1].append(\"dad!\")\n",
    "s"
   ]
  },
  {
   "cell_type": "code",
   "execution_count": 29,
   "metadata": {
    "colab": {
     "base_uri": "https://localhost:8080/",
     "height": 34
    },
    "colab_type": "code",
    "executionInfo": {
     "elapsed": 731,
     "status": "ok",
     "timestamp": 1553448765605,
     "user": {
      "displayName": "Piotr Piwoński",
      "photoUrl": "",
      "userId": "10614946504265160604"
     },
     "user_tz": -60
    },
    "id": "2p0hU2gSwsEJ",
    "outputId": "8a345cbf-634e-4817-d478-bbce7073c7ff"
   },
   "outputs": [
    {
     "data": {
      "text/plain": [
       "'The diameter of Earth is 12742 kilometers.'"
      ]
     },
     "execution_count": 29,
     "metadata": {},
     "output_type": "execute_result"
    }
   ],
   "source": [
    "planet = \"Earth\"\n",
    "diameter = 12742\n",
    "\"The diameter of {} is {} kilometers.\".format(planet, diameter)"
   ]
  },
  {
   "cell_type": "code",
   "execution_count": 30,
   "metadata": {
    "colab": {
     "base_uri": "https://localhost:8080/",
     "height": 34
    },
    "colab_type": "code",
    "executionInfo": {
     "elapsed": 718,
     "status": "ok",
     "timestamp": 1553448765607,
     "user": {
      "displayName": "Piotr Piwoński",
      "photoUrl": "",
      "userId": "10614946504265160604"
     },
     "user_tz": -60
    },
    "id": "FxgGRzKVwsEN",
    "outputId": "aace6f6b-f2c4-4d5e-f0ee-0ae41feb63b5",
    "scrolled": false
   },
   "outputs": [
    {
     "data": {
      "text/plain": [
       "'hello'"
      ]
     },
     "execution_count": 30,
     "metadata": {},
     "output_type": "execute_result"
    }
   ],
   "source": [
    "lst = [1,2,[3,4],[5,[100,200,['hello']],23,11],1,7]\n",
    "lst[3][1][2][0]"
   ]
  },
  {
   "cell_type": "code",
   "execution_count": 31,
   "metadata": {
    "colab": {
     "base_uri": "https://localhost:8080/",
     "height": 34
    },
    "colab_type": "code",
    "executionInfo": {
     "elapsed": 702,
     "status": "ok",
     "timestamp": 1553448765608,
     "user": {
      "displayName": "Piotr Piwoński",
      "photoUrl": "",
      "userId": "10614946504265160604"
     },
     "user_tz": -60
    },
    "id": "U-GL24XGwsES",
    "outputId": "9fdf6f87-d7a5-4407-8ce5-7ac7585f8e3b"
   },
   "outputs": [
    {
     "data": {
      "text/plain": [
       "'hello'"
      ]
     },
     "execution_count": 31,
     "metadata": {},
     "output_type": "execute_result"
    }
   ],
   "source": [
    "d = {'k1':[\n",
    "    1,2,3,{\n",
    "        'tricky':[\n",
    "            'oh','man','inception',{\n",
    "                'target':[1,2,3,'hello']\n",
    "            }\n",
    "        ]\n",
    "    }\n",
    "]}\n",
    "d[\"k1\"][3]['tricky'][3]['target'][3]"
   ]
  },
  {
   "cell_type": "code",
   "execution_count": 32,
   "metadata": {
    "colab": {
     "base_uri": "https://localhost:8080/",
     "height": 197
    },
    "colab_type": "code",
    "executionInfo": {
     "elapsed": 979,
     "status": "error",
     "timestamp": 1553448765899,
     "user": {
      "displayName": "Piotr Piwoński",
      "photoUrl": "",
      "userId": "10614946504265160604"
     },
     "user_tz": -60
    },
    "id": "KcF24-F7wsEW",
    "outputId": "8f6c0a5e-3caf-4ab0-e17f-4717843ca0ba",
    "scrolled": true
   },
   "outputs": [
    {
     "ename": "TypeError",
     "evalue": "'tuple' object does not support item assignment",
     "output_type": "error",
     "traceback": [
      "\u001b[0;31m---------------------------------------------------------------------------\u001b[0m",
      "\u001b[0;31mTypeError\u001b[0m                                 Traceback (most recent call last)",
      "\u001b[0;32m<ipython-input-32-7dbdc17a447a>\u001b[0m in \u001b[0;36m<module>\u001b[0;34m\u001b[0m\n\u001b[1;32m      2\u001b[0m \u001b[0mtup\u001b[0m \u001b[0;34m=\u001b[0m \u001b[0;34m(\u001b[0m\u001b[0;36m1\u001b[0m\u001b[0;34m,\u001b[0m \u001b[0;36m2\u001b[0m\u001b[0;34m,\u001b[0m \u001b[0;36m3\u001b[0m\u001b[0;34m,\u001b[0m \u001b[0;36m5\u001b[0m\u001b[0;34m)\u001b[0m\u001b[0;34m\u001b[0m\u001b[0;34m\u001b[0m\u001b[0m\n\u001b[1;32m      3\u001b[0m \u001b[0mlist_\u001b[0m\u001b[0;34m[\u001b[0m\u001b[0;36m1\u001b[0m\u001b[0;34m]\u001b[0m \u001b[0;34m=\u001b[0m \u001b[0;36m6\u001b[0m\u001b[0;34m\u001b[0m\u001b[0;34m\u001b[0m\u001b[0m\n\u001b[0;32m----> 4\u001b[0;31m \u001b[0mtup\u001b[0m\u001b[0;34m[\u001b[0m\u001b[0;36m1\u001b[0m\u001b[0;34m]\u001b[0m \u001b[0;34m=\u001b[0m \u001b[0;36m6\u001b[0m\u001b[0;34m\u001b[0m\u001b[0;34m\u001b[0m\u001b[0m\n\u001b[0m",
      "\u001b[0;31mTypeError\u001b[0m: 'tuple' object does not support item assignment"
     ]
    }
   ],
   "source": [
    "list_ = [1, 2, 3, 4, 5]\n",
    "tup = (1, 2, 3, 5)\n",
    "list_[1] = 6\n",
    "tup[1] = 6"
   ]
  },
  {
   "cell_type": "code",
   "execution_count": 33,
   "metadata": {
    "colab": {
     "base_uri": "https://localhost:8080/",
     "height": 34
    },
    "colab_type": "code",
    "executionInfo": {
     "elapsed": 834,
     "status": "ok",
     "timestamp": 1553448780224,
     "user": {
      "displayName": "Piotr Piwoński",
      "photoUrl": "",
      "userId": "10614946504265160604"
     },
     "user_tz": -60
    },
    "id": "zfVc_vobwsEc",
    "outputId": "a1902aa1-ba16-4997-f3e4-a2c3e9119e7e"
   },
   "outputs": [
    {
     "data": {
      "text/plain": [
       "'ee.pw.edu.pl'"
      ]
     },
     "execution_count": 33,
     "metadata": {},
     "output_type": "execute_result"
    }
   ],
   "source": [
    "get_domain = lambda s: s.split('@', 1)[1]\n",
    "get_domain('super_user@ee.pw.edu.pl')"
   ]
  },
  {
   "cell_type": "code",
   "execution_count": 34,
   "metadata": {
    "colab": {
     "base_uri": "https://localhost:8080/",
     "height": 34
    },
    "colab_type": "code",
    "executionInfo": {
     "elapsed": 687,
     "status": "ok",
     "timestamp": 1553448782346,
     "user": {
      "displayName": "Piotr Piwoński",
      "photoUrl": "",
      "userId": "10614946504265160604"
     },
     "user_tz": -60
    },
    "id": "_G-Mk_W7wsEi",
    "outputId": "3b8c6706-b6b1-42e5-cc86-82c544a39b51"
   },
   "outputs": [
    {
     "data": {
      "text/plain": [
       "False"
      ]
     },
     "execution_count": 34,
     "metadata": {},
     "output_type": "execute_result"
    }
   ],
   "source": [
    "isCar = lambda s: \"car\" in s.lower()\n",
    "isCar('super_user@ee.pw.edu.pl')"
   ]
  },
  {
   "cell_type": "code",
   "execution_count": 35,
   "metadata": {
    "colab": {
     "base_uri": "https://localhost:8080/",
     "height": 34
    },
    "colab_type": "code",
    "executionInfo": {
     "elapsed": 622,
     "status": "ok",
     "timestamp": 1553448784141,
     "user": {
      "displayName": "Piotr Piwoński",
      "photoUrl": "",
      "userId": "10614946504265160604"
     },
     "user_tz": -60
    },
    "id": "TkAgouzIwsEm",
    "outputId": "26f4e4ad-2cd7-44b3-9045-e665a6bc36a9"
   },
   "outputs": [
    {
     "data": {
      "text/plain": [
       "2"
      ]
     },
     "execution_count": 35,
     "metadata": {},
     "output_type": "execute_result"
    }
   ],
   "source": [
    "countCar = lambda s: s.count(\"car\")\n",
    "countCar('This car runs faster than the other car dude!')"
   ]
  },
  {
   "cell_type": "code",
   "execution_count": 36,
   "metadata": {
    "colab": {
     "base_uri": "https://localhost:8080/",
     "height": 34
    },
    "colab_type": "code",
    "executionInfo": {
     "elapsed": 633,
     "status": "ok",
     "timestamp": 1553448785889,
     "user": {
      "displayName": "Piotr Piwoński",
      "photoUrl": "",
      "userId": "10614946504265160604"
     },
     "user_tz": -60
    },
    "id": "enATff7fwsEt",
    "outputId": "73dc0012-9d5c-4f68-9d15-1db90bb7ec65"
   },
   "outputs": [
    {
     "data": {
      "text/plain": [
       "['soup', 'salad']"
      ]
     },
     "execution_count": 36,
     "metadata": {},
     "output_type": "execute_result"
    }
   ],
   "source": [
    "filterStartsWithS = lambda l: filter(lambda s: s.startswith(\"s\"), l)\n",
    "list(filterStartsWithS(['soup', 'dog', 'salad', 'cat', 'great']))"
   ]
  },
  {
   "cell_type": "code",
   "execution_count": 38,
   "metadata": {
    "colab": {
     "base_uri": "https://localhost:8080/",
     "height": 51
    },
    "colab_type": "code",
    "executionInfo": {
     "elapsed": 628,
     "status": "ok",
     "timestamp": 1553448787600,
     "user": {
      "displayName": "Piotr Piwoński",
      "photoUrl": "",
      "userId": "10614946504265160604"
     },
     "user_tz": -60
    },
    "id": "qGfYpV7_wsEz",
    "outputId": "768f1359-cd00-4bee-dbe5-6c561bfc4dfb"
   },
   "outputs": [
    {
     "name": "stdout",
     "output_type": "stream",
     "text": [
      "Small Ticket\n",
      "Big Ticket\n"
     ]
    }
   ],
   "source": [
    "def caught_speeding(speed, is_birthday):\n",
    "    bonus = 5 if is_birthday else 0\n",
    "    if speed <= 60 + bonus:\n",
    "        return \"No ticket\"\n",
    "    elif speed <= 80 + bonus:\n",
    "        return \"Small Ticket\"\n",
    "    else:\n",
    "        return \"Big Ticket\"\n",
    "print(caught_speeding(81, True))\n",
    "print(caught_speeding(81, False))"
   ]
  }
 ],
 "metadata": {
  "colab": {
   "collapsed_sections": [],
   "name": "1.ipynb",
   "provenance": [],
   "version": "0.3.2"
  },
  "kernelspec": {
   "display_name": "Python 3",
   "language": "python",
   "name": "python3"
  },
  "language_info": {
   "codemirror_mode": {
    "name": "ipython",
    "version": 3
   },
   "file_extension": ".py",
   "mimetype": "text/x-python",
   "name": "python",
   "nbconvert_exporter": "python",
   "pygments_lexer": "ipython3",
   "version": "3.7.1"
  }
 },
 "nbformat": 4,
 "nbformat_minor": 1
}
