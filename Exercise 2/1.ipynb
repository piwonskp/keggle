{
 "cells": [
  {
   "cell_type": "code",
   "execution_count": 6,
   "metadata": {
    "colab": {},
    "colab_type": "code",
    "id": "PBk0dxr6EY8w",
    "outputId": "054a424e-ee48-47c6-be82-c05aea9be456"
   },
   "outputs": [
    {
     "name": "stdout",
     "output_type": "stream",
     "text": [
      "[2, 3, 5, 7, 11, 13, 17, 19, 23, 29, 31, 37, 41, 43]\n",
      "[2, 3, 5, 7, 11, 13, 17, 19]\n",
      "2\n",
      "3\n"
     ]
    }
   ],
   "source": [
    "def myprimef(n):\n",
    "    for i in range(2, n + 1):\n",
    "        if all(i % j != 0 for j in range(2, i)):\n",
    "            yield i\n",
    "\n",
    "class MyPrimeC(object):\n",
    "    def __init__(self, n):\n",
    "        self.n = n\n",
    "        self.i = 2\n",
    "\n",
    "    def __next__(self):\n",
    "        while True:\n",
    "            i = self.i\n",
    "            self.i += 1\n",
    "\n",
    "            if i > self.n:\n",
    "                raise StopIteration\n",
    "\n",
    "            if all(i % j != 0 for j in range(2, i)):\n",
    "                return i\n",
    "        \n",
    "\n",
    "primeg = lambda n: (i for i in range (2, n + 1) \n",
    "                    if all(i % j != 0 for j in range(2, i))\n",
    "                   )\n",
    "\n",
    "print(list(primeg(44)))\n",
    "print(list(myprimef(22)))\n",
    "g = MyPrimeC(66)\n",
    "print(next(g))\n",
    "print(next(g))"
   ]
  },
  {
   "cell_type": "code",
   "execution_count": 7,
   "metadata": {
    "colab": {},
    "colab_type": "code",
    "id": "v6oKd6XQEY9I",
    "outputId": "c848a1c8-e578-4f1a-eab8-aae2715caebe"
   },
   "outputs": [
    {
     "name": "stdout",
     "output_type": "stream",
     "text": [
      "9.433981132056603\n",
      "1.6\n"
     ]
    }
   ],
   "source": [
    "import math\n",
    "\n",
    "class Line(object):\n",
    "    \n",
    "    def __init__(self,coor1,coor2):\n",
    "        \"\"\"Initialize instance attributes with tuples (x1,y1)  and (x2,y2)\n",
    "        \"\"\"\n",
    "        self.coor1 = coor1\n",
    "        self.coor2 = coor2\n",
    "    \n",
    "    def distance(self):\n",
    "        \"\"\"Calculate the length of the segment (line)\n",
    "        \"\"\"\n",
    "        x1, y1 = self.coor1\n",
    "        x2, y2 = self.coor2\n",
    "        return math.sqrt((x2 - x1) ** 2 + (y2 - y1) ** 2)\n",
    "    \n",
    "    def slope(self):\n",
    "        \"\"\" Return the slope of a line going through the ends ( the 'a' in y=ax+b)\n",
    "        \"\"\"\n",
    "        x1, y1 = self.coor1\n",
    "        x2, y2 = self.coor2\n",
    "        return (y2 - y1) / (x2 - x1)\n",
    "        \n",
    "        \n",
    "\n",
    "coordinate1 = (3,2)\n",
    "coordinate2 = (8,10)\n",
    "\n",
    "li = Line(coordinate1,coordinate2)\n",
    "\n",
    "print(li.distance())\n",
    "print(li.slope())"
   ]
  },
  {
   "cell_type": "code",
   "execution_count": 8,
   "metadata": {
    "colab": {},
    "colab_type": "code",
    "id": "QSRtKeZYEY9T",
    "outputId": "8a1aa413-9246-4ad6-b736-44c65c3437e5"
   },
   "outputs": [
    {
     "name": "stdout",
     "output_type": "stream",
     "text": [
      "56.548667764616276\n",
      "94.24777960769379\n"
     ]
    }
   ],
   "source": [
    "class Cylinder(object):\n",
    "    \n",
    "    def __init__(self,height=1,radius=1):\n",
    "        self.height = height\n",
    "        self.radius = radius\n",
    "        \n",
    "    def volume(self):\n",
    "        return math.pi * self.radius ** 2 * self.height\n",
    "    \n",
    "    def surface_area(self):\n",
    "        return 2 * math.pi * self.radius ** 2 + 2 * math.pi * self.radius * self.height\n",
    "\n",
    "c = Cylinder(2,3)\n",
    "\n",
    "print(c.volume())\n",
    "print(c.surface_area())"
   ]
  },
  {
   "cell_type": "code",
   "execution_count": 9,
   "metadata": {
    "colab": {
     "base_uri": "https://localhost:8080/",
     "height": 119
    },
    "colab_type": "code",
    "executionInfo": {
     "elapsed": 597,
     "status": "ok",
     "timestamp": 1552854849093,
     "user": {
      "displayName": "Piotr Piwoński",
      "photoUrl": "",
      "userId": "10614946504265160604"
     },
     "user_tz": -60
    },
    "id": "p8DY7_6AEY9g",
    "outputId": "d3ebab7e-4847-41a7-bc6e-6765320fe979"
   },
   "outputs": [
    {
     "name": "stdout",
     "output_type": "stream",
     "text": [
      "                            Min                 Max                 Avg               Distinct      \n",
      "Name:                        -                   -                   -                   3          \n",
      "Age:                         4                   8                   6                   3          \n",
      "Weight:                      18                  32                  25                  3          \n",
      "Height:                      98                 138                119.67                3          \n",
      "\n"
     ]
    }
   ],
   "source": [
    "digit_or_str = lambda s: int(s) if s.isdigit() else s\n",
    "to_data = lambda l: list(map(digit_or_str, l.split(';')))\n",
    "\n",
    "\n",
    "def info_text(col, min, max, avg, distinct):\n",
    "    return f'{col}{min}{max}{avg}{distinct}\\n'\n",
    "\n",
    "center = lambda val: f'{val:^20}'\n",
    "num = lambda val: center(f'{val:.2f}'.rstrip('0').rstrip('.'))\n",
    "name = lambda col: f'{col + \":\":<20}'\n",
    "\n",
    "\n",
    "class DataFile(object):\n",
    "    def __init__(self, filename='undef'):\n",
    "        with open(filename, 'r') as file_:\n",
    "            self.columns = file_.readline().strip().split(';')\n",
    "            self.data = list(map(to_data, file_.read().splitlines()))\n",
    "  \n",
    "    def info(self):\n",
    "        data = ''\n",
    "        for col in self.columns:\n",
    "            is_digit = type(self.get_column_data(colname=col)[0]) == int\n",
    "            get_info = self.int_info if is_digit else self.str_info\n",
    "            data += get_info(col)\n",
    "        return f\"{'':^20}{'Min':^20}{'Max':^20}{'Avg':^20}{'Distinct':^20}\\n{data}\"\n",
    "\n",
    "    \n",
    "    def get_column_data(self, colnum=None, colname=None):\n",
    "        if colname in self.columns:\n",
    "            colnum = self.columns.index(colname)\n",
    "        return list(map(lambda r: r[colnum], self.data))\n",
    "    \n",
    "    def str_info(self, col):\n",
    "        null = center('-')\n",
    "        return info_text(name(col), null, null, null, center(self.distinc(colname=col)))\n",
    "\n",
    "    def int_info(self, col):\n",
    "        return info_text(name(col), num(self.min(colname=col)),\n",
    "                         num(self.max(colname=col)), \n",
    "                         num(self.avg(colname=col)), \n",
    "                         center(self.distinc(colname=col))\n",
    "                        )\n",
    "    \n",
    "    def avg(self, colnum=0, colname=''):\n",
    "        \"\"\" The column name or colnum can be provided alternatively\n",
    "        \"\"\"\n",
    "        data = self.get_column_data(colnum, colname)\n",
    "        return sum(data) / len(data)         \n",
    "\n",
    "    def min(self, colnum=0, colname=''):\n",
    "        return min(self.get_column_data(colnum, colname))\n",
    "\n",
    "    def max(self, colnum=0, colname=''):\n",
    "        return max(self.get_column_data(colnum, colname))  \n",
    "\n",
    "    def distinc(self, colnum=0, colname=''):\n",
    "        \"Counts distinct number of values in a given column.\"\n",
    "        return len(set(self.get_column_data(colnum, colname)))\n",
    "\n",
    "\n",
    "df = DataFile('myfile.csv')\n",
    "print(df.info())"
   ]
  }
 ],
 "metadata": {
  "colab": {
   "collapsed_sections": [],
   "name": "lab2.ipynb",
   "provenance": [],
   "version": "0.3.2"
  },
  "kernelspec": {
   "display_name": "Python 3",
   "language": "python",
   "name": "python3"
  },
  "language_info": {
   "codemirror_mode": {
    "name": "ipython",
    "version": 3
   },
   "file_extension": ".py",
   "mimetype": "text/x-python",
   "name": "python",
   "nbconvert_exporter": "python",
   "pygments_lexer": "ipython3",
   "version": "3.7.1"
  }
 },
 "nbformat": 4,
 "nbformat_minor": 1
}
