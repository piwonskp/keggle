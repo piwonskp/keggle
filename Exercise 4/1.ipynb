{
 "cells": [
  {
   "cell_type": "code",
   "execution_count": 1,
   "metadata": {
    "colab": {
     "base_uri": "https://localhost:8080/",
     "height": 34
    },
    "colab_type": "code",
    "executionInfo": {
     "elapsed": 847,
     "status": "ok",
     "timestamp": 1552900412201,
     "user": {
      "displayName": "Piotr Piwoński",
      "photoUrl": "",
      "userId": "10614946504265160604"
     },
     "user_tz": -60
    },
    "id": "aPMlUtJ2P-KF",
    "outputId": "25d1dfe0-a654-4521-843b-532ca99eee23"
   },
   "outputs": [
    {
     "data": {
      "text/plain": [
       "array([0., 0., 0., 0., 0., 0., 0., 0., 0., 0.])"
      ]
     },
     "execution_count": 1,
     "metadata": {},
     "output_type": "execute_result"
    }
   ],
   "source": [
    "import numpy as np\n",
    "\n",
    "np.zeros(10)"
   ]
  },
  {
   "cell_type": "code",
   "execution_count": 2,
   "metadata": {
    "colab": {
     "base_uri": "https://localhost:8080/",
     "height": 34
    },
    "colab_type": "code",
    "executionInfo": {
     "elapsed": 891,
     "status": "ok",
     "timestamp": 1552843415768,
     "user": {
      "displayName": "Piotr Piwoński",
      "photoUrl": "",
      "userId": "10614946504265160604"
     },
     "user_tz": -60
    },
    "id": "CsrhRK0mrDkD",
    "outputId": "4350fb71-ebd2-4aca-9158-f38afb4dac6c"
   },
   "outputs": [
    {
     "data": {
      "text/plain": [
       "array([1., 1., 1., 1., 1., 1., 1., 1., 1., 1.])"
      ]
     },
     "execution_count": 2,
     "metadata": {},
     "output_type": "execute_result"
    }
   ],
   "source": [
    "np.ones(10)"
   ]
  },
  {
   "cell_type": "code",
   "execution_count": 3,
   "metadata": {
    "colab": {
     "base_uri": "https://localhost:8080/",
     "height": 34
    },
    "colab_type": "code",
    "executionInfo": {
     "elapsed": 891,
     "status": "ok",
     "timestamp": 1552843415771,
     "user": {
      "displayName": "Piotr Piwoński",
      "photoUrl": "",
      "userId": "10614946504265160604"
     },
     "user_tz": -60
    },
    "id": "ejgs7TE3rL6D",
    "outputId": "98246104-8555-4829-af10-4f948df87b67"
   },
   "outputs": [
    {
     "data": {
      "text/plain": [
       "array([5., 5., 5., 5., 5., 5., 5., 5., 5., 5.])"
      ]
     },
     "execution_count": 3,
     "metadata": {},
     "output_type": "execute_result"
    }
   ],
   "source": [
    "np.full(10, 5.)"
   ]
  },
  {
   "cell_type": "code",
   "execution_count": 4,
   "metadata": {
    "colab": {
     "base_uri": "https://localhost:8080/",
     "height": 68
    },
    "colab_type": "code",
    "executionInfo": {
     "elapsed": 595,
     "status": "ok",
     "timestamp": 1552844566571,
     "user": {
      "displayName": "Piotr Piwoński",
      "photoUrl": "",
      "userId": "10614946504265160604"
     },
     "user_tz": -60
    },
    "id": "QsT72ODsrL9C",
    "outputId": "cc3ed0d9-1a08-4c7c-cda6-a4c5fe1a4756"
   },
   "outputs": [
    {
     "data": {
      "text/plain": [
       "array([10, 11, 12, 13, 14, 15, 16, 17, 18, 19, 20, 21, 22, 23, 24, 25, 26,\n",
       "       27, 28, 29, 30, 31, 32, 33, 34, 35, 36, 37, 38, 39, 40, 41, 42, 43,\n",
       "       44, 45, 46, 47, 48, 49, 50])"
      ]
     },
     "execution_count": 4,
     "metadata": {},
     "output_type": "execute_result"
    }
   ],
   "source": [
    "np.arange(10, 51)"
   ]
  },
  {
   "cell_type": "code",
   "execution_count": 5,
   "metadata": {
    "colab": {
     "base_uri": "https://localhost:8080/",
     "height": 51
    },
    "colab_type": "code",
    "executionInfo": {
     "elapsed": 751,
     "status": "ok",
     "timestamp": 1552844597903,
     "user": {
      "displayName": "Piotr Piwoński",
      "photoUrl": "",
      "userId": "10614946504265160604"
     },
     "user_tz": -60
    },
    "id": "5Qp1PSqhrMAr",
    "outputId": "b6b64398-ea78-4b4f-82cb-5dfcdcfcf47d"
   },
   "outputs": [
    {
     "data": {
      "text/plain": [
       "array([10, 12, 14, 16, 18, 20, 22, 24, 26, 28, 30, 32, 34, 36, 38, 40, 42,\n",
       "       44, 46, 48, 50])"
      ]
     },
     "execution_count": 5,
     "metadata": {},
     "output_type": "execute_result"
    }
   ],
   "source": [
    "np.arange(10, 51, 2)"
   ]
  },
  {
   "cell_type": "code",
   "execution_count": 6,
   "metadata": {
    "colab": {
     "base_uri": "https://localhost:8080/",
     "height": 68
    },
    "colab_type": "code",
    "executionInfo": {
     "elapsed": 878,
     "status": "ok",
     "timestamp": 1552844644369,
     "user": {
      "displayName": "Piotr Piwoński",
      "photoUrl": "",
      "userId": "10614946504265160604"
     },
     "user_tz": -60
    },
    "id": "N5JjQCG6rMEN",
    "outputId": "0a43556e-bb58-40d8-9226-bbec188b9e93"
   },
   "outputs": [
    {
     "data": {
      "text/plain": [
       "array([[0, 1, 2],\n",
       "       [3, 4, 5],\n",
       "       [6, 7, 8]])"
      ]
     },
     "execution_count": 6,
     "metadata": {},
     "output_type": "execute_result"
    }
   ],
   "source": [
    "np.arange(0, 9).reshape(3,3)"
   ]
  },
  {
   "cell_type": "code",
   "execution_count": 7,
   "metadata": {
    "colab": {
     "base_uri": "https://localhost:8080/",
     "height": 68
    },
    "colab_type": "code",
    "executionInfo": {
     "elapsed": 893,
     "status": "ok",
     "timestamp": 1552843415777,
     "user": {
      "displayName": "Piotr Piwoński",
      "photoUrl": "",
      "userId": "10614946504265160604"
     },
     "user_tz": -60
    },
    "id": "2-5SvUEmrMHK",
    "outputId": "db70c100-efb8-48d1-acf3-86e5967219df"
   },
   "outputs": [
    {
     "data": {
      "text/plain": [
       "array([[1., 0., 0.],\n",
       "       [0., 1., 0.],\n",
       "       [0., 0., 1.]])"
      ]
     },
     "execution_count": 7,
     "metadata": {},
     "output_type": "execute_result"
    }
   ],
   "source": [
    "np.identity(3)"
   ]
  },
  {
   "cell_type": "code",
   "execution_count": 8,
   "metadata": {
    "colab": {
     "base_uri": "https://localhost:8080/",
     "height": 34
    },
    "colab_type": "code",
    "executionInfo": {
     "elapsed": 893,
     "status": "ok",
     "timestamp": 1552843415778,
     "user": {
      "displayName": "Piotr Piwoński",
      "photoUrl": "",
      "userId": "10614946504265160604"
     },
     "user_tz": -60
    },
    "id": "7St_EWpCrMKK",
    "outputId": "8b788d54-bb88-46d5-bc6e-ba3850f2334f"
   },
   "outputs": [
    {
     "data": {
      "text/plain": [
       "array([0.87510087])"
      ]
     },
     "execution_count": 8,
     "metadata": {},
     "output_type": "execute_result"
    }
   ],
   "source": [
    "np.random.rand(1)"
   ]
  },
  {
   "cell_type": "code",
   "execution_count": 9,
   "metadata": {
    "colab": {
     "base_uri": "https://localhost:8080/",
     "height": 102
    },
    "colab_type": "code",
    "executionInfo": {
     "elapsed": 877,
     "status": "ok",
     "timestamp": 1552843415779,
     "user": {
      "displayName": "Piotr Piwoński",
      "photoUrl": "",
      "userId": "10614946504265160604"
     },
     "user_tz": -60
    },
    "id": "2kghgPrZrMNL",
    "outputId": "68cbe0b6-ffe1-4ab3-f19a-85df9baf5db3"
   },
   "outputs": [
    {
     "data": {
      "text/plain": [
       "array([ 0.18480728, -0.72021817,  1.65524845,  0.42478275,  0.33714571,\n",
       "        0.51991365, -1.82380063, -0.20147771, -0.47820483, -0.19457325,\n",
       "        2.25085281, -0.89639866, -1.22119957,  0.62829437,  0.02592292,\n",
       "        1.48336218, -0.48609268,  1.72251871, -0.39216676,  0.26143683,\n",
       "        0.18525711,  0.04606316,  0.11882984,  0.50464577, -1.6637342 ])"
      ]
     },
     "execution_count": 9,
     "metadata": {},
     "output_type": "execute_result"
    }
   ],
   "source": [
    "np.random.randn(25)"
   ]
  },
  {
   "cell_type": "code",
   "execution_count": 10,
   "metadata": {
    "colab": {
     "base_uri": "https://localhost:8080/",
     "height": 187
    },
    "colab_type": "code",
    "executionInfo": {
     "elapsed": 601,
     "status": "ok",
     "timestamp": 1552844715195,
     "user": {
      "displayName": "Piotr Piwoński",
      "photoUrl": "",
      "userId": "10614946504265160604"
     },
     "user_tz": -60
    },
    "id": "Yanxz7t9rMPi",
    "outputId": "8187b7e4-a8c5-42d9-cbc4-e61e7a30daea"
   },
   "outputs": [
    {
     "data": {
      "text/plain": [
       "array([[0.01, 0.02, 0.03, 0.04, 0.05, 0.06, 0.07, 0.08, 0.09, 0.1 ],\n",
       "       [0.11, 0.12, 0.13, 0.14, 0.15, 0.16, 0.17, 0.18, 0.19, 0.2 ],\n",
       "       [0.21, 0.22, 0.23, 0.24, 0.25, 0.26, 0.27, 0.28, 0.29, 0.3 ],\n",
       "       [0.31, 0.32, 0.33, 0.34, 0.35, 0.36, 0.37, 0.38, 0.39, 0.4 ],\n",
       "       [0.41, 0.42, 0.43, 0.44, 0.45, 0.46, 0.47, 0.48, 0.49, 0.5 ],\n",
       "       [0.51, 0.52, 0.53, 0.54, 0.55, 0.56, 0.57, 0.58, 0.59, 0.6 ],\n",
       "       [0.61, 0.62, 0.63, 0.64, 0.65, 0.66, 0.67, 0.68, 0.69, 0.7 ],\n",
       "       [0.71, 0.72, 0.73, 0.74, 0.75, 0.76, 0.77, 0.78, 0.79, 0.8 ],\n",
       "       [0.81, 0.82, 0.83, 0.84, 0.85, 0.86, 0.87, 0.88, 0.89, 0.9 ],\n",
       "       [0.91, 0.92, 0.93, 0.94, 0.95, 0.96, 0.97, 0.98, 0.99, 1.  ]])"
      ]
     },
     "execution_count": 10,
     "metadata": {},
     "output_type": "execute_result"
    }
   ],
   "source": [
    "np.arange(0.01, 1.01, 0.01).reshape(10, 10)"
   ]
  },
  {
   "cell_type": "code",
   "execution_count": 11,
   "metadata": {
    "colab": {
     "base_uri": "https://localhost:8080/",
     "height": 85
    },
    "colab_type": "code",
    "executionInfo": {
     "elapsed": 668,
     "status": "ok",
     "timestamp": 1552844261270,
     "user": {
      "displayName": "Piotr Piwoński",
      "photoUrl": "",
      "userId": "10614946504265160604"
     },
     "user_tz": -60
    },
    "id": "RUR6U8_tuo8V",
    "outputId": "310ec93d-0860-4381-a9f3-179886895120"
   },
   "outputs": [
    {
     "data": {
      "text/plain": [
       "array([0.        , 0.05263158, 0.10526316, 0.15789474, 0.21052632,\n",
       "       0.26315789, 0.31578947, 0.36842105, 0.42105263, 0.47368421,\n",
       "       0.52631579, 0.57894737, 0.63157895, 0.68421053, 0.73684211,\n",
       "       0.78947368, 0.84210526, 0.89473684, 0.94736842, 1.        ])"
      ]
     },
     "execution_count": 11,
     "metadata": {},
     "output_type": "execute_result"
    }
   ],
   "source": [
    "np.linspace(0, 1, 20)"
   ]
  },
  {
   "cell_type": "code",
   "execution_count": 12,
   "metadata": {
    "colab": {
     "base_uri": "https://localhost:8080/",
     "height": 102
    },
    "colab_type": "code",
    "executionInfo": {
     "elapsed": 600,
     "status": "ok",
     "timestamp": 1552846414899,
     "user": {
      "displayName": "Piotr Piwoński",
      "photoUrl": "",
      "userId": "10614946504265160604"
     },
     "user_tz": -60
    },
    "id": "GGY7zB0Kufor",
    "outputId": "34620b15-c051-4d44-fa24-6807c67826bd"
   },
   "outputs": [
    {
     "data": {
      "text/plain": [
       "array([[ 1,  2,  3,  4,  5],\n",
       "       [ 6,  7,  8,  9, 10],\n",
       "       [11, 12, 13, 14, 15],\n",
       "       [16, 17, 18, 19, 20],\n",
       "       [21, 22, 23, 24, 25]])"
      ]
     },
     "execution_count": 12,
     "metadata": {},
     "output_type": "execute_result"
    }
   ],
   "source": [
    "mat = np.arange(1,26).reshape(5,5)\n",
    "mat"
   ]
  },
  {
   "cell_type": "code",
   "execution_count": 13,
   "metadata": {
    "colab": {
     "base_uri": "https://localhost:8080/",
     "height": 68
    },
    "colab_type": "code",
    "executionInfo": {
     "elapsed": 686,
     "status": "ok",
     "timestamp": 1552846416727,
     "user": {
      "displayName": "Piotr Piwoński",
      "photoUrl": "",
      "userId": "10614946504265160604"
     },
     "user_tz": -60
    },
    "id": "rH6HjTvn28Xx",
    "outputId": "191354c5-72e1-40e6-8e04-033825c15a91"
   },
   "outputs": [
    {
     "data": {
      "text/plain": [
       "array([[12, 13, 14, 15],\n",
       "       [17, 18, 19, 20],\n",
       "       [22, 23, 24, 25]])"
      ]
     },
     "execution_count": 13,
     "metadata": {},
     "output_type": "execute_result"
    }
   ],
   "source": [
    "\n",
    "mat[2:, 1:]"
   ]
  },
  {
   "cell_type": "code",
   "execution_count": 14,
   "metadata": {
    "colab": {
     "base_uri": "https://localhost:8080/",
     "height": 34
    },
    "colab_type": "code",
    "executionInfo": {
     "elapsed": 667,
     "status": "ok",
     "timestamp": 1552845806506,
     "user": {
      "displayName": "Piotr Piwoński",
      "photoUrl": "",
      "userId": "10614946504265160604"
     },
     "user_tz": -60
    },
    "id": "MLqzRKBBvCHp",
    "outputId": "bddc0d7e-decc-42f4-c335-4cc38f657212"
   },
   "outputs": [
    {
     "data": {
      "text/plain": [
       "20"
      ]
     },
     "execution_count": 14,
     "metadata": {},
     "output_type": "execute_result"
    }
   ],
   "source": [
    "mat[3, 4]"
   ]
  },
  {
   "cell_type": "code",
   "execution_count": 15,
   "metadata": {
    "colab": {
     "base_uri": "https://localhost:8080/",
     "height": 68
    },
    "colab_type": "code",
    "executionInfo": {
     "elapsed": 701,
     "status": "ok",
     "timestamp": 1552845852356,
     "user": {
      "displayName": "Piotr Piwoński",
      "photoUrl": "",
      "userId": "10614946504265160604"
     },
     "user_tz": -60
    },
    "id": "dkvvfGen0qxQ",
    "outputId": "2a8db5e5-dfd6-4c22-fc69-24314cf98752"
   },
   "outputs": [
    {
     "data": {
      "text/plain": [
       "array([[ 2],\n",
       "       [ 7],\n",
       "       [12]])"
      ]
     },
     "execution_count": 15,
     "metadata": {},
     "output_type": "execute_result"
    }
   ],
   "source": [
    "mat[:3, 1:2]"
   ]
  },
  {
   "cell_type": "code",
   "execution_count": 16,
   "metadata": {
    "colab": {
     "base_uri": "https://localhost:8080/",
     "height": 34
    },
    "colab_type": "code",
    "executionInfo": {
     "elapsed": 641,
     "status": "ok",
     "timestamp": 1552845972674,
     "user": {
      "displayName": "Piotr Piwoński",
      "photoUrl": "",
      "userId": "10614946504265160604"
     },
     "user_tz": -60
    },
    "id": "8fvaIHAd02ak",
    "outputId": "c62747e0-1b09-446d-e3aa-81fa841fabf3"
   },
   "outputs": [
    {
     "data": {
      "text/plain": [
       "array([21, 22, 23, 24, 25])"
      ]
     },
     "execution_count": 16,
     "metadata": {},
     "output_type": "execute_result"
    }
   ],
   "source": [
    "mat[4]"
   ]
  },
  {
   "cell_type": "code",
   "execution_count": 17,
   "metadata": {
    "colab": {
     "base_uri": "https://localhost:8080/",
     "height": 51
    },
    "colab_type": "code",
    "executionInfo": {
     "elapsed": 799,
     "status": "ok",
     "timestamp": 1552845995571,
     "user": {
      "displayName": "Piotr Piwoński",
      "photoUrl": "",
      "userId": "10614946504265160604"
     },
     "user_tz": -60
    },
    "id": "P4bJKtkx1Uc6",
    "outputId": "3c772de7-72ff-4a3b-b61d-07af65a5cabb"
   },
   "outputs": [
    {
     "data": {
      "text/plain": [
       "array([[16, 17, 18, 19, 20],\n",
       "       [21, 22, 23, 24, 25]])"
      ]
     },
     "execution_count": 17,
     "metadata": {},
     "output_type": "execute_result"
    }
   ],
   "source": [
    "mat[3:]"
   ]
  },
  {
   "cell_type": "code",
   "execution_count": 18,
   "metadata": {
    "colab": {
     "base_uri": "https://localhost:8080/",
     "height": 34
    },
    "colab_type": "code",
    "executionInfo": {
     "elapsed": 659,
     "status": "ok",
     "timestamp": 1552846149390,
     "user": {
      "displayName": "Piotr Piwoński",
      "photoUrl": "",
      "userId": "10614946504265160604"
     },
     "user_tz": -60
    },
    "id": "T7R8hIvv1Z0O",
    "outputId": "b39936f4-65d1-4a66-af2f-cf3d144ed6ad"
   },
   "outputs": [
    {
     "data": {
      "text/plain": [
       "325"
      ]
     },
     "execution_count": 18,
     "metadata": {},
     "output_type": "execute_result"
    }
   ],
   "source": [
    "np.sum(mat)"
   ]
  },
  {
   "cell_type": "code",
   "execution_count": 19,
   "metadata": {
    "colab": {
     "base_uri": "https://localhost:8080/",
     "height": 34
    },
    "colab_type": "code",
    "executionInfo": {
     "elapsed": 589,
     "status": "ok",
     "timestamp": 1552846204065,
     "user": {
      "displayName": "Piotr Piwoński",
      "photoUrl": "",
      "userId": "10614946504265160604"
     },
     "user_tz": -60
    },
    "id": "17CN5IgF1-uQ",
    "outputId": "c8a1beb9-cda7-47e4-b5dd-d0a97580dedd"
   },
   "outputs": [
    {
     "data": {
      "text/plain": [
       "7.211102550927978"
      ]
     },
     "execution_count": 19,
     "metadata": {},
     "output_type": "execute_result"
    }
   ],
   "source": [
    "np.std(mat)"
   ]
  },
  {
   "cell_type": "code",
   "execution_count": 20,
   "metadata": {
    "colab": {
     "base_uri": "https://localhost:8080/",
     "height": 34
    },
    "colab_type": "code",
    "executionInfo": {
     "elapsed": 789,
     "status": "ok",
     "timestamp": 1552846326086,
     "user": {
      "displayName": "Piotr Piwoński",
      "photoUrl": "",
      "userId": "10614946504265160604"
     },
     "user_tz": -60
    },
    "id": "jqQr_jSr2Re0",
    "outputId": "12d12975-5eaa-41e3-970d-0f673bd9f947"
   },
   "outputs": [
    {
     "data": {
      "text/plain": [
       "array([55, 60, 65, 70, 75])"
      ]
     },
     "execution_count": 20,
     "metadata": {},
     "output_type": "execute_result"
    }
   ],
   "source": [
    "np.sum(mat, axis=0)"
   ]
  },
  {
   "cell_type": "code",
   "execution_count": 21,
   "metadata": {
    "colab": {
     "base_uri": "https://localhost:8080/",
     "height": 34
    },
    "colab_type": "code",
    "executionInfo": {
     "elapsed": 597,
     "status": "ok",
     "timestamp": 1552846487882,
     "user": {
      "displayName": "Piotr Piwoński",
      "photoUrl": "",
      "userId": "10614946504265160604"
     },
     "user_tz": -60
    },
    "id": "Y9MuNLCb3Lwm",
    "outputId": "ba55d26e-0838-4392-caf4-27eed097e744"
   },
   "outputs": [
    {
     "data": {
      "text/plain": [
       "array([11., 12., 13., 14., 15.])"
      ]
     },
     "execution_count": 21,
     "metadata": {},
     "output_type": "execute_result"
    }
   ],
   "source": [
    "np.median(mat, axis=0)"
   ]
  },
  {
   "cell_type": "code",
   "execution_count": 22,
   "metadata": {
    "colab": {
     "base_uri": "https://localhost:8080/",
     "height": 34
    },
    "colab_type": "code",
    "executionInfo": {
     "elapsed": 646,
     "status": "ok",
     "timestamp": 1552846517773,
     "user": {
      "displayName": "Piotr Piwoński",
      "photoUrl": "",
      "userId": "10614946504265160604"
     },
     "user_tz": -60
    },
    "id": "8mvqNG0h3LoE",
    "outputId": "f2c887cd-e5f3-4a00-87f6-30e2baca414e"
   },
   "outputs": [
    {
     "data": {
      "text/plain": [
       "array([11., 12., 13., 14., 15.])"
      ]
     },
     "execution_count": 22,
     "metadata": {},
     "output_type": "execute_result"
    }
   ],
   "source": [
    "np.average(mat, axis=0)"
   ]
  },
  {
   "cell_type": "code",
   "execution_count": 23,
   "metadata": {
    "colab": {
     "base_uri": "https://localhost:8080/",
     "height": 34
    },
    "colab_type": "code",
    "executionInfo": {
     "elapsed": 631,
     "status": "ok",
     "timestamp": 1552846551649,
     "user": {
      "displayName": "Piotr Piwoński",
      "photoUrl": "",
      "userId": "10614946504265160604"
     },
     "user_tz": -60
    },
    "id": "t_s89mnN3blN",
    "outputId": "9d015e83-d676-43c4-b1b1-5fccf07d5c20"
   },
   "outputs": [
    {
     "data": {
      "text/plain": [
       "array([ 3.,  8., 13., 18., 23.])"
      ]
     },
     "execution_count": 23,
     "metadata": {},
     "output_type": "execute_result"
    }
   ],
   "source": [
    "np.median(mat, axis=1)"
   ]
  },
  {
   "cell_type": "code",
   "execution_count": 24,
   "metadata": {
    "colab": {
     "base_uri": "https://localhost:8080/",
     "height": 34
    },
    "colab_type": "code",
    "executionInfo": {
     "elapsed": 747,
     "status": "ok",
     "timestamp": 1552846588722,
     "user": {
      "displayName": "Piotr Piwoński",
      "photoUrl": "",
      "userId": "10614946504265160604"
     },
     "user_tz": -60
    },
    "id": "CvapZEAR3beW",
    "outputId": "42a64291-02ca-4612-a078-014ca7a66f95"
   },
   "outputs": [
    {
     "data": {
      "text/plain": [
       "array([ 3.,  8., 13., 18., 23.])"
      ]
     },
     "execution_count": 24,
     "metadata": {},
     "output_type": "execute_result"
    }
   ],
   "source": [
    "np.average(mat, axis=1)"
   ]
  },
  {
   "cell_type": "code",
   "execution_count": 27,
   "metadata": {
    "colab": {
     "base_uri": "https://localhost:8080/",
     "height": 951
    },
    "colab_type": "code",
    "executionInfo": {
     "elapsed": 1384,
     "status": "ok",
     "timestamp": 1552861232826,
     "user": {
      "displayName": "Piotr Piwoński",
      "photoUrl": "",
      "userId": "10614946504265160604"
     },
     "user_tz": -60
    },
    "id": "18LLzeA73lVf",
    "outputId": "f2d1f65d-a6f2-4c9c-e6a1-fd6151a9b0e8"
   },
   "outputs": [
    {
     "data": {
      "image/png": "[encoded data removed]",
      "text/plain": [
       "<Figure size 576x396 with 1 Axes>"
      ]
     },
     "metadata": {},
     "output_type": "display_data"
    },
    {
     "data": {
      "image/png": "[encoded data removed]",
      "text/plain": [
       "<Figure size 576x396 with 1 Axes>"
      ]
     },
     "metadata": {},
     "output_type": "display_data"
    }
   ],
   "source": [
    "import csv\n",
    "import matplotlib.pyplot as plt\n",
    "\n",
    "\n",
    "with open('Crime_Data_from_2010_small.csv') as f:\n",
    "  reader = csv.reader(f, delimiter=',')\n",
    "  for row in reader:\n",
    "    occurences_hours = [row[3] for row in reader][1:]\n",
    "    occurences_hours = [int(t) // 100 for t in occurences_hours]\n",
    "\n",
    "plt.style.use('seaborn')\n",
    "fig, ax = plt.subplots()\n",
    "ax.hist(occurences_hours, rwidth=0.9, bins=12)\n",
    "ax.set_xticks(range(1, 24, 2))\n",
    "\n",
    "plt.show()\n",
    "\n",
    "\n",
    "import collections\n",
    "\n",
    "\n",
    "occurences_hours = collections.Counter(occurences_hours).items()\n",
    "x, y = list(map(lambda a: a[0], occurences_hours)), list(map(lambda a: a[1], occurences_hours))\n",
    "fig, ax = plt.subplots()\n",
    "ax.scatter(x, y)\n",
    "ax.annotate(f'The maximum value: {max(y)}', xytext=(3,160), xy=(19, 171),\n",
    "            arrowprops=dict(arrowstyle=\"->\",lw=2))\n",
    "\n",
    "plt.show()\n"
   ]
  },
  {
   "cell_type": "code",
   "execution_count": 28,
   "metadata": {
    "colab": {
     "base_uri": "https://localhost:8080/",
     "height": 323
    },
    "colab_type": "code",
    "executionInfo": {
     "elapsed": 1815,
     "status": "ok",
     "timestamp": 1552917477366,
     "user": {
      "displayName": "Piotr Piwoński",
      "photoUrl": "",
      "userId": "10614946504265160604"
     },
     "user_tz": -60
    },
    "id": "DS1j22eSwEh_",
    "outputId": "f05f31e1-8f3b-4e41-e716-4fd8c452a236"
   },
   "outputs": [
    {
     "name": "stdout",
     "output_type": "stream",
     "text": [
      "A = [[ 1.  2.  3.  4.]\n",
      " [ 5.  6. 88. -3.]\n",
      " [ 9. 10. 11. -3.]\n",
      " [13. 14. 15. 16.]]\n",
      "Original x = [1. 1. 1. 1.]\n",
      "Right hand side for testing: b = [10. 96. 27. 58.]\n",
      "Check if A was unchanged \n",
      "Eliminated augmented matrix:\n",
      " [[   1.     2.     3.     4.    10. ]\n",
      " [   0.    -4.    73.   -23.    46. ]\n",
      " [   0.     0.  -162.     7.  -155. ]\n",
      " [   0.     0.     0.    22.5   22.5]]\n",
      "Eliminated augmented matrix A part: [[   1.     2.     3.     4. ]\n",
      " [   0.    -4.    73.   -23. ]\n",
      " [   0.     0.  -162.     7. ]\n",
      " [   0.     0.     0.    22.5]]\n",
      "Eliminated augmented matrix b part: [  10.    46.  -155.    22.5]\n",
      "Solution: [1.0, 1.0, 1.0, 1.0]\n"
     ]
    }
   ],
   "source": [
    "def gaussian(A, b):\n",
    "  A_aug = np.column_stack((A, b))\n",
    "  for i in range(len(A_aug) - 1):\n",
    "    row = A_aug[i]\n",
    "    sub = [r - row * (r[i] / row[i]) for r in A_aug[i+1:]]\n",
    "    A_aug = np.concatenate((A_aug[:i + 1], sub))\n",
    "  return A_aug\n",
    "\n",
    "def back(A, b):\n",
    "  xs = []\n",
    "  for a in A[::-1]:\n",
    "    a, bl, b = a[::-1], b[-1], b[:-1]\n",
    "\n",
    "    r = bl - sum(c * x for c, x in zip(a, xs))\n",
    "    xs.append(r / a[len(xs)])\n",
    "\n",
    "  return xs\n",
    "\n",
    "\n",
    "A = np.arange(1, 17, dtype=np.float64).reshape(4,4)\n",
    "A[1,2] = 88\n",
    "A[1,3] = -3\n",
    "A[2,3] = -3\n",
    "print(f'A = {A}')\n",
    "\n",
    "x = np.ones(A.shape[0])\n",
    "print(f'Original x = {x}')\n",
    "b = A  @ x.T\n",
    "print(f'Right hand side for testing: b = {b}')\n",
    "\n",
    "\n",
    "Ae = gaussian(A, b)\n",
    "print(f'Check if A was unchanged ')\n",
    "print(f'Eliminated augmented matrix:\\n {Ae}')\n",
    "print(f'Eliminated augmented matrix A part: {Ae[:,:-1]}')\n",
    "print(f'Eliminated augmented matrix b part: {Ae[:,Ae.shape[1]-1]}')\n",
    "\n",
    "# Find solution\n",
    "x = back(Ae[:,:-1], Ae[:,Ae.shape[1]-1])\n",
    "print(f'Solution: {x}')"
   ]
  }
 ],
 "metadata": {
  "colab": {
   "collapsed_sections": [],
   "name": "lab4.ipynb",
   "provenance": [],
   "version": "0.3.2"
  },
  "kernelspec": {
   "display_name": "Python 3",
   "language": "python",
   "name": "python3"
  },
  "language_info": {
   "codemirror_mode": {
    "name": "ipython",
    "version": 3
   },
   "file_extension": ".py",
   "mimetype": "text/x-python",
   "name": "python",
   "nbconvert_exporter": "python",
   "pygments_lexer": "ipython3",
   "version": "3.7.1"
  }
 },
 "nbformat": 4,
 "nbformat_minor": 1
}
