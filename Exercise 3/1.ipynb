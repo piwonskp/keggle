{
 "cells": [
  {
   "cell_type": "code",
   "execution_count": 16,
   "metadata": {
    "colab": {
     "base_uri": "https://localhost:8080/",
     "height": 51
    },
    "colab_type": "code",
    "executionInfo": {
     "elapsed": 747,
     "status": "ok",
     "timestamp": 1553449241837,
     "user": {
      "displayName": "Piotr Piwoński",
      "photoUrl": "",
      "userId": "10614946504265160604"
     },
     "user_tz": -60
    },
    "id": "e90oG1aR-O5K",
    "outputId": "1b7ead42-280b-48ce-ee49-3d4cef170dc2"
   },
   "outputs": [
    {
     "name": "stdout",
     "output_type": "stream",
     "text": [
      "[1, 17, 57, 209]\n",
      "[1, 17, 57, 209]\n"
     ]
    }
   ],
   "source": [
    "c = [1,2,3]\n",
    "x = [0, 2, 4, 8]\n",
    "p = [sum(a * y ** pow for pow, a in enumerate(c)) for y in x]\n",
    "\n",
    "def gen(vals):\n",
    "    for y in vals:\n",
    "        yield sum(a * y ** pow for pow, a in enumerate(c))\n",
    "\n",
    "print(p)\n",
    "print(list(gen(x)))"
   ]
  },
  {
   "cell_type": "code",
   "execution_count": 17,
   "metadata": {
    "colab": {
     "base_uri": "https://localhost:8080/",
     "height": 286
    },
    "colab_type": "code",
    "executionInfo": {
     "elapsed": 1110,
     "status": "ok",
     "timestamp": 1553449242245,
     "user": {
      "displayName": "Piotr Piwoński",
      "photoUrl": "",
      "userId": "10614946504265160604"
     },
     "user_tz": -60
    },
    "id": "ZQu3pTrg-O5W",
    "outputId": "240ebd45-3658-46e7-cd51-2f51d2d67112",
    "scrolled": false
   },
   "outputs": [
    {
     "data": {
      "text/plain": [
       "[<matplotlib.lines.Line2D at 0x7f75ac8c7d30>]"
      ]
     },
     "execution_count": 17,
     "metadata": {},
     "output_type": "execute_result"
    },
    {
     "data": {
      "image/png": "[encoded data removed]",
      "text/plain": [
       "<Figure size 432x288 with 1 Axes>"
      ]
     },
     "metadata": {
      "needs_background": "light"
     },
     "output_type": "display_data"
    }
   ],
   "source": [
    "import matplotlib.pyplot as plt\n",
    "\n",
    "\n",
    "polynomial = lambda xs: [sum(a * x ** pow for pow, a in enumerate(c)) for x in xs]\n",
    "\n",
    "y = polynomial(x)\n",
    "\n",
    "plt.plot(x, y)\n",
    "\n",
    "n = 100\n",
    "x2 = [max(x)*i/n for i in range(n)]\n",
    "y2 = polynomial(x2)\n",
    "\n",
    "plt.plot(x2,y2)"
   ]
  },
  {
   "cell_type": "code",
   "execution_count": 18,
   "metadata": {
    "colab": {
     "base_uri": "https://localhost:8080/",
     "height": 34
    },
    "colab_type": "code",
    "executionInfo": {
     "elapsed": 1071,
     "status": "ok",
     "timestamp": 1553449242246,
     "user": {
      "displayName": "Piotr Piwoński",
      "photoUrl": "",
      "userId": "10614946504265160604"
     },
     "user_tz": -60
    },
    "id": "ajhJXt-1-O5c",
    "outputId": "63a35656-23e3-4311-a5b7-81ad475f2ab7"
   },
   "outputs": [
    {
     "name": "stdout",
     "output_type": "stream",
     "text": [
      "thEpurposEoflifE\n"
     ]
    }
   ],
   "source": [
    "upperstr = 'thepurposeoflife'\n",
    "upperstr = ''.join(str.upper(c) if c == 'e' else c for c in upperstr)\n",
    "print(upperstr)"
   ]
  },
  {
   "cell_type": "code",
   "execution_count": 19,
   "metadata": {
    "colab": {
     "base_uri": "https://localhost:8080/",
     "height": 85
    },
    "colab_type": "code",
    "executionInfo": {
     "elapsed": 1033,
     "status": "ok",
     "timestamp": 1553449242251,
     "user": {
      "displayName": "Piotr Piwoński",
      "photoUrl": "",
      "userId": "10614946504265160604"
     },
     "user_tz": -60
    },
    "id": "WzozVqBS-O5m",
    "outputId": "4e2c5aab-2f72-43a4-ecc9-2e8ad7438f57"
   },
   "outputs": [
    {
     "name": "stdout",
     "output_type": "stream",
     "text": [
      "Sam and 19 and CS\n",
      "Nicole and 21 and Biochemistry\n",
      "Paul and 20 and Fine Arts\n",
      "Ashley and 18 and History\n"
     ]
    }
   ],
   "source": [
    "records = (('Sam', 19, 'CS'),\n",
    "('Nicole', 21, 'Biochemistry'),\n",
    "('Paul', 20, 'Fine Arts'),\n",
    "('Ashley', 18, 'History'))\n",
    "\n",
    "def showrecords(records):\n",
    "    for record in records:\n",
    "        print('%s and %d and %s' % (record[0], record[1], record[2]))\n",
    "\n",
    "showrecords(records)"
   ]
  },
  {
   "cell_type": "code",
   "execution_count": 20,
   "metadata": {
    "colab": {
     "base_uri": "https://localhost:8080/",
     "height": 51
    },
    "colab_type": "code",
    "executionInfo": {
     "elapsed": 998,
     "status": "ok",
     "timestamp": 1553449242255,
     "user": {
      "displayName": "Piotr Piwoński",
      "photoUrl": "",
      "userId": "10614946504265160604"
     },
     "user_tz": -60
    },
    "id": "jASOaGUZ-O5s",
    "outputId": "8b7c0170-5cad-4028-cb67-46491c76e68e"
   },
   "outputs": [
    {
     "name": "stdout",
     "output_type": "stream",
     "text": [
      "45\n",
      "90\n"
     ]
    }
   ],
   "source": [
    "def multiplier_of(n):\n",
    "    def multiply(a):\n",
    "        return n * a\n",
    "    return multiply\n",
    "\n",
    "multiply_with_5 = multiplier_of(5)\n",
    "print(multiply_with_5(9))\n",
    "\n",
    "multiply_with_45 = multiplier_of(multiply_with_5(9))\n",
    "print(multiply_with_45(2))"
   ]
  },
  {
   "cell_type": "code",
   "execution_count": 21,
   "metadata": {
    "colab": {
     "base_uri": "https://localhost:8080/",
     "height": 85
    },
    "colab_type": "code",
    "executionInfo": {
     "elapsed": 965,
     "status": "ok",
     "timestamp": 1553449242257,
     "user": {
      "displayName": "Piotr Piwoński",
      "photoUrl": "",
      "userId": "10614946504265160604"
     },
     "user_tz": -60
    },
    "id": "vH0huc32-O5w",
    "outputId": "dfd11552-e859-4599-cea0-6d1f1de747b1"
   },
   "outputs": [
    {
     "name": "stdout",
     "output_type": "stream",
     "text": [
      "4\n",
      "Bad Type\n",
      "H\n",
      "Bad Type\n"
     ]
    }
   ],
   "source": [
    "def type_check(correct_type):\n",
    "    def check(old_function):\n",
    "        return (\n",
    "            lambda arg, *args, **kwargs: \n",
    "            old_function(arg, *args, **kwargs) if isinstance(arg, correct_type) \n",
    "                else print(\"Bad Type\")\n",
    "               )\n",
    "    return check\n",
    "\n",
    "@type_check(int)\n",
    "def times2(num):\n",
    "    return num*2\n",
    "\n",
    "print(times2(2))\n",
    "times2('Not A Number')\n",
    "\n",
    "@type_check(str)\n",
    "def first_letter(word):\n",
    "    return word[0]\n",
    "\n",
    "print(first_letter('Hello World'))\n",
    "first_letter(['Not', 'A', 'String'])"
   ]
  },
  {
   "cell_type": "code",
   "execution_count": 22,
   "metadata": {
    "colab": {
     "base_uri": "https://localhost:8080/",
     "height": 68
    },
    "colab_type": "code",
    "executionInfo": {
     "elapsed": 952,
     "status": "ok",
     "timestamp": 1553449242262,
     "user": {
      "displayName": "Piotr Piwoński",
      "photoUrl": "",
      "userId": "10614946504265160604"
     },
     "user_tz": -60
    },
    "id": "qGOx_sLb-O55",
    "outputId": "eb2cb95b-880d-4f8a-f124-84776b501028"
   },
   "outputs": [
    {
     "name": "stdout",
     "output_type": "stream",
     "text": [
      "Using 'be_awesome'\n"
     ]
    },
    {
     "data": {
      "text/plain": [
       "'Yo John, together we are the awesomest!'"
      ]
     },
     "execution_count": 22,
     "metadata": {},
     "output_type": "execute_result"
    }
   ],
   "source": [
    "import random\n",
    "\n",
    "\n",
    "PLUGINS = dict()\n",
    "\n",
    "def register(func):\n",
    "    PLUGINS[func.__name__] = func\n",
    "    return func\n",
    "\n",
    "@register\n",
    "def say_hello(name):\n",
    "    return f\"Hello {name}\"\n",
    "\n",
    "@register\n",
    "def be_awesome(name):\n",
    "    return f\"Yo {name}, together we are the awesomest!\"\n",
    "\n",
    "def randomly_greet(name):\n",
    "    greeter, greeter_func = random.choice(list(PLUGINS.items()))\n",
    "    print(f\"Using {greeter!r}\")\n",
    "    return greeter_func(name)\n",
    "  \n",
    "\n",
    "randomly_greet('John')"
   ]
  }
 ],
 "metadata": {
  "colab": {
   "name": "1.ipynb",
   "provenance": [],
   "version": "0.3.2"
  },
  "kernelspec": {
   "display_name": "Python 3",
   "language": "python",
   "name": "python3"
  },
  "language_info": {
   "codemirror_mode": {
    "name": "ipython",
    "version": 3
   },
   "file_extension": ".py",
   "mimetype": "text/x-python",
   "name": "python",
   "nbconvert_exporter": "python",
   "pygments_lexer": "ipython3",
   "version": "3.7.1"
  }
 },
 "nbformat": 4,
 "nbformat_minor": 1
}
